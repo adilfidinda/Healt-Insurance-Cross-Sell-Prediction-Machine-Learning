{
 "cells": [
  {
   "cell_type": "code",
   "execution_count": 27,
   "metadata": {},
   "outputs": [],
   "source": [
    "import pandas as pd\n",
    "import numpy as np\n",
    "from sklearn.model_selection import train_test_split, GridSearchCV\n",
    "from sklearn.utils import resample\n",
    "import imblearn\n",
    "from imblearn.over_sampling import SMOTE\n",
    "from sklearn.ensemble import RandomForestClassifier\n",
    "from xgboost import XGBClassifier\n",
    "from sklearn.metrics import confusion_matrix, classification_report, accuracy_score, precision_score, recall_score, f1_score\n",
    "import warnings\n",
    "warnings.filterwarnings(\"ignore\")"
   ]
  },
  {
   "cell_type": "code",
   "execution_count": 28,
   "metadata": {},
   "outputs": [
    {
     "data": {
      "text/html": [
       "<div>\n",
       "<style scoped>\n",
       "    .dataframe tbody tr th:only-of-type {\n",
       "        vertical-align: middle;\n",
       "    }\n",
       "\n",
       "    .dataframe tbody tr th {\n",
       "        vertical-align: top;\n",
       "    }\n",
       "\n",
       "    .dataframe thead th {\n",
       "        text-align: right;\n",
       "    }\n",
       "</style>\n",
       "<table border=\"1\" class=\"dataframe\">\n",
       "  <thead>\n",
       "    <tr style=\"text-align: right;\">\n",
       "      <th></th>\n",
       "      <th>Gender</th>\n",
       "      <th>Age</th>\n",
       "      <th>Driving_License</th>\n",
       "      <th>Region_Code</th>\n",
       "      <th>Previously_Insured</th>\n",
       "      <th>Vehicle_Age</th>\n",
       "      <th>Vehicle_Damage</th>\n",
       "      <th>Annual_Premium</th>\n",
       "      <th>Policy_Sales_Channel</th>\n",
       "      <th>Vintage</th>\n",
       "      <th>Response</th>\n",
       "    </tr>\n",
       "  </thead>\n",
       "  <tbody>\n",
       "    <tr>\n",
       "      <th>1</th>\n",
       "      <td>Male</td>\n",
       "      <td>44</td>\n",
       "      <td>1</td>\n",
       "      <td>28.0</td>\n",
       "      <td>0</td>\n",
       "      <td>&gt; 2 Years</td>\n",
       "      <td>Yes</td>\n",
       "      <td>40454.0</td>\n",
       "      <td>26.0</td>\n",
       "      <td>217</td>\n",
       "      <td>1</td>\n",
       "    </tr>\n",
       "    <tr>\n",
       "      <th>2</th>\n",
       "      <td>Male</td>\n",
       "      <td>76</td>\n",
       "      <td>1</td>\n",
       "      <td>3.0</td>\n",
       "      <td>0</td>\n",
       "      <td>1-2 Year</td>\n",
       "      <td>No</td>\n",
       "      <td>33536.0</td>\n",
       "      <td>26.0</td>\n",
       "      <td>183</td>\n",
       "      <td>0</td>\n",
       "    </tr>\n",
       "    <tr>\n",
       "      <th>3</th>\n",
       "      <td>Male</td>\n",
       "      <td>47</td>\n",
       "      <td>1</td>\n",
       "      <td>28.0</td>\n",
       "      <td>0</td>\n",
       "      <td>&gt; 2 Years</td>\n",
       "      <td>Yes</td>\n",
       "      <td>38294.0</td>\n",
       "      <td>26.0</td>\n",
       "      <td>27</td>\n",
       "      <td>1</td>\n",
       "    </tr>\n",
       "    <tr>\n",
       "      <th>4</th>\n",
       "      <td>Male</td>\n",
       "      <td>21</td>\n",
       "      <td>1</td>\n",
       "      <td>11.0</td>\n",
       "      <td>1</td>\n",
       "      <td>&lt; 1 Year</td>\n",
       "      <td>No</td>\n",
       "      <td>28619.0</td>\n",
       "      <td>152.0</td>\n",
       "      <td>203</td>\n",
       "      <td>0</td>\n",
       "    </tr>\n",
       "    <tr>\n",
       "      <th>5</th>\n",
       "      <td>Female</td>\n",
       "      <td>29</td>\n",
       "      <td>1</td>\n",
       "      <td>41.0</td>\n",
       "      <td>1</td>\n",
       "      <td>&lt; 1 Year</td>\n",
       "      <td>No</td>\n",
       "      <td>27496.0</td>\n",
       "      <td>152.0</td>\n",
       "      <td>39</td>\n",
       "      <td>0</td>\n",
       "    </tr>\n",
       "  </tbody>\n",
       "</table>\n",
       "</div>"
      ],
      "text/plain": [
       "   Gender  Age  Driving_License  Region_Code  Previously_Insured Vehicle_Age  \\\n",
       "1    Male   44                1         28.0                   0   > 2 Years   \n",
       "2    Male   76                1          3.0                   0    1-2 Year   \n",
       "3    Male   47                1         28.0                   0   > 2 Years   \n",
       "4    Male   21                1         11.0                   1    < 1 Year   \n",
       "5  Female   29                1         41.0                   1    < 1 Year   \n",
       "\n",
       "  Vehicle_Damage  Annual_Premium  Policy_Sales_Channel  Vintage  Response  \n",
       "1            Yes         40454.0                  26.0      217         1  \n",
       "2             No         33536.0                  26.0      183         0  \n",
       "3            Yes         38294.0                  26.0       27         1  \n",
       "4             No         28619.0                 152.0      203         0  \n",
       "5             No         27496.0                 152.0       39         0  "
      ]
     },
     "execution_count": 28,
     "metadata": {},
     "output_type": "execute_result"
    }
   ],
   "source": [
    "df = pd.read_csv(\"train.csv\")\n",
    "df.set_index('id', inplace = True)\n",
    "df.index.name = None\n",
    "df.head()"
   ]
  },
  {
   "cell_type": "code",
   "execution_count": 29,
   "metadata": {},
   "outputs": [
    {
     "data": {
      "text/html": [
       "<div>\n",
       "<style scoped>\n",
       "    .dataframe tbody tr th:only-of-type {\n",
       "        vertical-align: middle;\n",
       "    }\n",
       "\n",
       "    .dataframe tbody tr th {\n",
       "        vertical-align: top;\n",
       "    }\n",
       "\n",
       "    .dataframe thead th {\n",
       "        text-align: right;\n",
       "    }\n",
       "</style>\n",
       "<table border=\"1\" class=\"dataframe\">\n",
       "  <thead>\n",
       "    <tr style=\"text-align: right;\">\n",
       "      <th></th>\n",
       "      <th>Gender</th>\n",
       "      <th>Age</th>\n",
       "      <th>Driving_License</th>\n",
       "      <th>Region_Code</th>\n",
       "      <th>Previously_Insured</th>\n",
       "      <th>Vehicle_Age</th>\n",
       "      <th>Vehicle_Damage</th>\n",
       "      <th>Annual_Premium</th>\n",
       "      <th>Policy_Sales_Channel</th>\n",
       "      <th>Vintage</th>\n",
       "      <th>Response</th>\n",
       "    </tr>\n",
       "  </thead>\n",
       "  <tbody>\n",
       "    <tr>\n",
       "      <th>1</th>\n",
       "      <td>0</td>\n",
       "      <td>44</td>\n",
       "      <td>1</td>\n",
       "      <td>28.0</td>\n",
       "      <td>0</td>\n",
       "      <td>2</td>\n",
       "      <td>1</td>\n",
       "      <td>40454.0</td>\n",
       "      <td>26.0</td>\n",
       "      <td>217</td>\n",
       "      <td>1</td>\n",
       "    </tr>\n",
       "    <tr>\n",
       "      <th>2</th>\n",
       "      <td>0</td>\n",
       "      <td>76</td>\n",
       "      <td>1</td>\n",
       "      <td>3.0</td>\n",
       "      <td>0</td>\n",
       "      <td>1</td>\n",
       "      <td>0</td>\n",
       "      <td>33536.0</td>\n",
       "      <td>26.0</td>\n",
       "      <td>183</td>\n",
       "      <td>0</td>\n",
       "    </tr>\n",
       "    <tr>\n",
       "      <th>3</th>\n",
       "      <td>0</td>\n",
       "      <td>47</td>\n",
       "      <td>1</td>\n",
       "      <td>28.0</td>\n",
       "      <td>0</td>\n",
       "      <td>2</td>\n",
       "      <td>1</td>\n",
       "      <td>38294.0</td>\n",
       "      <td>26.0</td>\n",
       "      <td>27</td>\n",
       "      <td>1</td>\n",
       "    </tr>\n",
       "    <tr>\n",
       "      <th>4</th>\n",
       "      <td>0</td>\n",
       "      <td>21</td>\n",
       "      <td>1</td>\n",
       "      <td>11.0</td>\n",
       "      <td>1</td>\n",
       "      <td>0</td>\n",
       "      <td>0</td>\n",
       "      <td>28619.0</td>\n",
       "      <td>152.0</td>\n",
       "      <td>203</td>\n",
       "      <td>0</td>\n",
       "    </tr>\n",
       "    <tr>\n",
       "      <th>5</th>\n",
       "      <td>1</td>\n",
       "      <td>29</td>\n",
       "      <td>1</td>\n",
       "      <td>41.0</td>\n",
       "      <td>1</td>\n",
       "      <td>0</td>\n",
       "      <td>0</td>\n",
       "      <td>27496.0</td>\n",
       "      <td>152.0</td>\n",
       "      <td>39</td>\n",
       "      <td>0</td>\n",
       "    </tr>\n",
       "  </tbody>\n",
       "</table>\n",
       "</div>"
      ],
      "text/plain": [
       "   Gender  Age  Driving_License  Region_Code  Previously_Insured  Vehicle_Age  \\\n",
       "1       0   44                1         28.0                   0            2   \n",
       "2       0   76                1          3.0                   0            1   \n",
       "3       0   47                1         28.0                   0            2   \n",
       "4       0   21                1         11.0                   1            0   \n",
       "5       1   29                1         41.0                   1            0   \n",
       "\n",
       "   Vehicle_Damage  Annual_Premium  Policy_Sales_Channel  Vintage  Response  \n",
       "1               1         40454.0                  26.0      217         1  \n",
       "2               0         33536.0                  26.0      183         0  \n",
       "3               1         38294.0                  26.0       27         1  \n",
       "4               0         28619.0                 152.0      203         0  \n",
       "5               0         27496.0                 152.0       39         0  "
      ]
     },
     "execution_count": 29,
     "metadata": {},
     "output_type": "execute_result"
    }
   ],
   "source": [
    "#Encode\n",
    "df['Gender'] = df['Gender'].map({'Male' : 0, 'Female' : 1})\n",
    "df['Vehicle_Age'] = df['Vehicle_Age'].map({'< 1 Year' : 0, '1-2 Year' : 1, '> 2 Years' : 2})\n",
    "df['Vehicle_Damage'] = df['Vehicle_Damage'].map({'No' : 0, 'Yes' : 1})\n",
    "df.head()"
   ]
  },
  {
   "cell_type": "code",
   "execution_count": 30,
   "metadata": {},
   "outputs": [
    {
     "data": {
      "text/plain": [
       "Vehicle_Damage          0.354400\n",
       "Vehicle_Age             0.221874\n",
       "Age                     0.111147\n",
       "Annual_Premium          0.022575\n",
       "Region_Code             0.010570\n",
       "Driving_License         0.010155\n",
       "Vintage                -0.001050\n",
       "Gender                 -0.052440\n",
       "Policy_Sales_Channel   -0.139042\n",
       "Previously_Insured     -0.341170\n",
       "Name: Response, dtype: float64"
      ]
     },
     "execution_count": 30,
     "metadata": {},
     "output_type": "execute_result"
    }
   ],
   "source": [
    "cor = df.corr()\n",
    "cor['Response'].sort_values(ascending = False)[1:]"
   ]
  },
  {
   "cell_type": "code",
   "execution_count": 31,
   "metadata": {},
   "outputs": [],
   "source": [
    "x = df.drop(columns = ['Response'] , axis = 1)\n",
    "y = df['Response']"
   ]
  },
  {
   "cell_type": "code",
   "execution_count": 32,
   "metadata": {},
   "outputs": [],
   "source": [
    "x_train, x_test, y_train, y_test = train_test_split(x, y, train_size=.8, stratify= y, random_state = 42)"
   ]
  },
  {
   "cell_type": "code",
   "execution_count": 33,
   "metadata": {},
   "outputs": [
    {
     "data": {
      "text/plain": [
       "0    267519\n",
       "1     37368\n",
       "Name: Response, dtype: int64"
      ]
     },
     "execution_count": 33,
     "metadata": {},
     "output_type": "execute_result"
    }
   ],
   "source": [
    "y_train.value_counts()"
   ]
  },
  {
   "cell_type": "markdown",
   "metadata": {},
   "source": [
    "### Random Over Sampling"
   ]
  },
  {
   "cell_type": "code",
   "execution_count": 34,
   "metadata": {},
   "outputs": [
    {
     "data": {
      "text/plain": [
       "1    267519\n",
       "0    267519\n",
       "Name: Response, dtype: int64"
      ]
     },
     "execution_count": 34,
     "metadata": {},
     "output_type": "execute_result"
    }
   ],
   "source": [
    "df_train = pd.concat([x_train, y_train], axis=1)\n",
    "not_renewal = df_train[df_train['Response'] == 0]\n",
    "renewal = df_train[df_train['Response'] == 1]\n",
    "\n",
    "renewal_oversample = resample(renewal, replace=True, n_samples = len(not_renewal), random_state = 42)\n",
    "df_OverSampled = pd.concat([not_renewal, renewal_oversample])\n",
    "df_OverSampled['Response'].value_counts()"
   ]
  },
  {
   "cell_type": "code",
   "execution_count": 35,
   "metadata": {},
   "outputs": [],
   "source": [
    "x_train_os = df_OverSampled.drop(columns = ['Response'])\n",
    "y_train_os = df_OverSampled['Response']"
   ]
  },
  {
   "cell_type": "markdown",
   "metadata": {},
   "source": [
    "### Smote"
   ]
  },
  {
   "cell_type": "code",
   "execution_count": 36,
   "metadata": {},
   "outputs": [
    {
     "data": {
      "text/plain": [
       "1    267519\n",
       "0    267519\n",
       "Name: Response, dtype: int64"
      ]
     },
     "execution_count": 36,
     "metadata": {},
     "output_type": "execute_result"
    }
   ],
   "source": [
    "sm = SMOTE(random_state=42)\n",
    "x_train_sm, y_train_sm = sm.fit_sample(x_train, y_train)\n",
    "x = pd.DataFrame(data = x_train_sm, columns = x_train.columns)\n",
    "y = pd.DataFrame(data = y_train_sm, columns = ['Response'])\n",
    "df_smote = x.join(y)\n",
    "# df_smote = pd.concat([x_train_sm, y_train_sm], axis = 1)\n",
    "df_smote['Response'].value_counts()"
   ]
  },
  {
   "cell_type": "markdown",
   "metadata": {},
   "source": [
    "## Random Forest"
   ]
  },
  {
   "cell_type": "code",
   "execution_count": 37,
   "metadata": {},
   "outputs": [],
   "source": [
    "random_forest = RandomForestClassifier()"
   ]
  },
  {
   "cell_type": "markdown",
   "metadata": {},
   "source": [
    "### Random Forest Random Over Sampling"
   ]
  },
  {
   "cell_type": "code",
   "execution_count": 38,
   "metadata": {},
   "outputs": [
    {
     "data": {
      "text/plain": [
       "RandomForestClassifier()"
      ]
     },
     "execution_count": 38,
     "metadata": {},
     "output_type": "execute_result"
    }
   ],
   "source": [
    "random_forest.fit(x_train_os, y_train_os)"
   ]
  },
  {
   "cell_type": "code",
   "execution_count": 39,
   "metadata": {},
   "outputs": [],
   "source": [
    "pred_train_os = random_forest.predict(x_train_os)\n",
    "pred_test_os = random_forest.predict(x_test)"
   ]
  },
  {
   "cell_type": "code",
   "execution_count": 40,
   "metadata": {},
   "outputs": [],
   "source": [
    "rf_acc_base_train_os = accuracy_score(y_train_os, pred_train_os)\n",
    "rf_acc_base_test_os = accuracy_score(y_test, pred_test_os)\n",
    "rf_recall_base_train_os = recall_score(y_train_os, pred_train_os)\n",
    "rf_recall_base_test_os = recall_score(y_test, pred_test_os)\n",
    "rf_prec_base_train_os = precision_score(y_train_os, pred_train_os)\n",
    "rf_prec_base_test_os = precision_score(y_test, pred_test_os)\n",
    "rf_f1_base_train_os = f1_score(y_train_os, pred_train_os)\n",
    "rf_f1_base_test_os = f1_score(y_test, pred_test_os)"
   ]
  },
  {
   "cell_type": "code",
   "execution_count": 41,
   "metadata": {},
   "outputs": [
    {
     "data": {
      "text/html": [
       "<div>\n",
       "<style scoped>\n",
       "    .dataframe tbody tr th:only-of-type {\n",
       "        vertical-align: middle;\n",
       "    }\n",
       "\n",
       "    .dataframe tbody tr th {\n",
       "        vertical-align: top;\n",
       "    }\n",
       "\n",
       "    .dataframe thead th {\n",
       "        text-align: right;\n",
       "    }\n",
       "</style>\n",
       "<table border=\"1\" class=\"dataframe\">\n",
       "  <thead>\n",
       "    <tr style=\"text-align: right;\">\n",
       "      <th></th>\n",
       "      <th>Pred 1</th>\n",
       "      <th>Pred 0</th>\n",
       "    </tr>\n",
       "  </thead>\n",
       "  <tbody>\n",
       "    <tr>\n",
       "      <th>Akt 1</th>\n",
       "      <td>2492</td>\n",
       "      <td>6850</td>\n",
       "    </tr>\n",
       "    <tr>\n",
       "      <th>Akt 0</th>\n",
       "      <td>4774</td>\n",
       "      <td>62106</td>\n",
       "    </tr>\n",
       "  </tbody>\n",
       "</table>\n",
       "</div>"
      ],
      "text/plain": [
       "       Pred 1  Pred 0\n",
       "Akt 1    2492    6850\n",
       "Akt 0    4774   62106"
      ]
     },
     "execution_count": 41,
     "metadata": {},
     "output_type": "execute_result"
    }
   ],
   "source": [
    "cm_rf_base_os = confusion_matrix(y_test, pred_test_os, labels=[1, 0])\n",
    "cm_rf_base_os = pd.DataFrame(data=cm_rf_base_os, index=['Akt 1', 'Akt 0'], columns=['Pred 1', 'Pred 0'])\n",
    "cm_rf_base_os"
   ]
  },
  {
   "cell_type": "code",
   "execution_count": 42,
   "metadata": {},
   "outputs": [
    {
     "name": "stdout",
     "output_type": "stream",
     "text": [
      "              precision    recall  f1-score   support\n",
      "\n",
      "           0       0.93      0.90      0.91     68956\n",
      "           1       0.27      0.34      0.30      7266\n",
      "\n",
      "    accuracy                           0.85     76222\n",
      "   macro avg       0.60      0.62      0.61     76222\n",
      "weighted avg       0.87      0.85      0.86     76222\n",
      "\n"
     ]
    }
   ],
   "source": [
    "print(classification_report(pred_test_os, y_test))"
   ]
  },
  {
   "cell_type": "code",
   "execution_count": 43,
   "metadata": {},
   "outputs": [],
   "source": [
    "tp_rf_os = cm_rf_base_os['Pred 1'][0]\n",
    "tn_rf_os = cm_rf_base_os['Pred 0'][1]\n",
    "fp_rf_os = cm_rf_base_os['Pred 1'][1]\n",
    "fn_rf_os = cm_rf_base_os['Pred 0'][0]"
   ]
  },
  {
   "cell_type": "markdown",
   "metadata": {},
   "source": [
    "### Random Forest Smote"
   ]
  },
  {
   "cell_type": "code",
   "execution_count": 44,
   "metadata": {},
   "outputs": [
    {
     "data": {
      "text/plain": [
       "RandomForestClassifier()"
      ]
     },
     "execution_count": 44,
     "metadata": {},
     "output_type": "execute_result"
    }
   ],
   "source": [
    "random_forest.fit(x_train_sm, y_train_sm)"
   ]
  },
  {
   "cell_type": "code",
   "execution_count": 45,
   "metadata": {},
   "outputs": [],
   "source": [
    "pred_train_sm = random_forest.predict(x_train_sm)\n",
    "pred_test_sm = random_forest.predict(x_test)"
   ]
  },
  {
   "cell_type": "code",
   "execution_count": 46,
   "metadata": {},
   "outputs": [],
   "source": [
    "rf_acc_base_train_sm = accuracy_score(y_train_sm, pred_train_sm)\n",
    "rf_acc_base_test_sm = accuracy_score(y_test, pred_test_sm)\n",
    "rf_recall_base_train_sm = recall_score(y_train_sm, pred_train_sm)\n",
    "rf_recall_base_test_sm = recall_score(y_test, pred_test_sm)\n",
    "rf_prec_base_train_sm = precision_score(y_train_sm, pred_train_sm)\n",
    "rf_prec_base_test_sm = precision_score(y_test, pred_test_sm)\n",
    "rf_f1_base_train_sm = f1_score(y_train_sm, pred_train_sm)\n",
    "rf_f1_base_test_sm = f1_score(y_test, pred_test_sm)"
   ]
  },
  {
   "cell_type": "code",
   "execution_count": 47,
   "metadata": {},
   "outputs": [
    {
     "data": {
      "text/html": [
       "<div>\n",
       "<style scoped>\n",
       "    .dataframe tbody tr th:only-of-type {\n",
       "        vertical-align: middle;\n",
       "    }\n",
       "\n",
       "    .dataframe tbody tr th {\n",
       "        vertical-align: top;\n",
       "    }\n",
       "\n",
       "    .dataframe thead th {\n",
       "        text-align: right;\n",
       "    }\n",
       "</style>\n",
       "<table border=\"1\" class=\"dataframe\">\n",
       "  <thead>\n",
       "    <tr style=\"text-align: right;\">\n",
       "      <th></th>\n",
       "      <th>Pred 1</th>\n",
       "      <th>Pred 0</th>\n",
       "    </tr>\n",
       "  </thead>\n",
       "  <tbody>\n",
       "    <tr>\n",
       "      <th>Akt 1</th>\n",
       "      <td>3990</td>\n",
       "      <td>5352</td>\n",
       "    </tr>\n",
       "    <tr>\n",
       "      <th>Akt 0</th>\n",
       "      <td>8543</td>\n",
       "      <td>58337</td>\n",
       "    </tr>\n",
       "  </tbody>\n",
       "</table>\n",
       "</div>"
      ],
      "text/plain": [
       "       Pred 1  Pred 0\n",
       "Akt 1    3990    5352\n",
       "Akt 0    8543   58337"
      ]
     },
     "execution_count": 47,
     "metadata": {},
     "output_type": "execute_result"
    }
   ],
   "source": [
    "cm_rf_base_sm = confusion_matrix(y_test, pred_test_sm, labels=[1, 0])\n",
    "cm_rf_base_sm = pd.DataFrame(data=cm_rf_base_sm, index=['Akt 1', 'Akt 0'], columns=['Pred 1', 'Pred 0'])\n",
    "cm_rf_base_sm"
   ]
  },
  {
   "cell_type": "code",
   "execution_count": 48,
   "metadata": {},
   "outputs": [
    {
     "name": "stdout",
     "output_type": "stream",
     "text": [
      "              precision    recall  f1-score   support\n",
      "\n",
      "           0       0.87      0.92      0.89     63689\n",
      "           1       0.43      0.32      0.36     12533\n",
      "\n",
      "    accuracy                           0.82     76222\n",
      "   macro avg       0.65      0.62      0.63     76222\n",
      "weighted avg       0.80      0.82      0.81     76222\n",
      "\n"
     ]
    }
   ],
   "source": [
    "print(classification_report(pred_test_sm, y_test))"
   ]
  },
  {
   "cell_type": "code",
   "execution_count": 49,
   "metadata": {},
   "outputs": [],
   "source": [
    "tp_rf_sm = cm_rf_base_sm['Pred 1'][0]\n",
    "tn_rf_sm = cm_rf_base_sm['Pred 0'][1]\n",
    "fp_rf_sm = cm_rf_base_sm['Pred 1'][1]\n",
    "fn_rf_sm = cm_rf_base_sm['Pred 0'][0]"
   ]
  },
  {
   "cell_type": "markdown",
   "metadata": {},
   "source": [
    "## XGBoost"
   ]
  },
  {
   "cell_type": "code",
   "execution_count": 50,
   "metadata": {},
   "outputs": [],
   "source": [
    "xgb = XGBClassifier()"
   ]
  },
  {
   "cell_type": "markdown",
   "metadata": {},
   "source": [
    "### XGBoost Random Over Sampling"
   ]
  },
  {
   "cell_type": "code",
   "execution_count": 51,
   "metadata": {},
   "outputs": [
    {
     "data": {
      "text/plain": [
       "XGBClassifier(base_score=0.5, booster='gbtree', colsample_bylevel=1,\n",
       "              colsample_bynode=1, colsample_bytree=1, gamma=0, gpu_id=-1,\n",
       "              importance_type='gain', interaction_constraints='',\n",
       "              learning_rate=0.300000012, max_delta_step=0, max_depth=6,\n",
       "              min_child_weight=1, missing=nan, monotone_constraints='()',\n",
       "              n_estimators=100, n_jobs=0, num_parallel_tree=1, random_state=0,\n",
       "              reg_alpha=0, reg_lambda=1, scale_pos_weight=1, subsample=1,\n",
       "              tree_method='exact', validate_parameters=1, verbosity=None)"
      ]
     },
     "execution_count": 51,
     "metadata": {},
     "output_type": "execute_result"
    }
   ],
   "source": [
    "xgb.fit(x_train_os, y_train_os)"
   ]
  },
  {
   "cell_type": "code",
   "execution_count": 52,
   "metadata": {},
   "outputs": [],
   "source": [
    "pred_train_os = xgb.predict(x_train_os)\n",
    "pred_test_os = xgb.predict(x_test)"
   ]
  },
  {
   "cell_type": "code",
   "execution_count": 53,
   "metadata": {},
   "outputs": [],
   "source": [
    "xgb_acc_base_train_os = accuracy_score(y_train_os, pred_train_os)\n",
    "xgb_acc_base_test_os = accuracy_score(y_test, pred_test_os)\n",
    "xgb_recall_base_train_os = recall_score(y_train_os, pred_train_os)\n",
    "xgb_recall_base_test_os = recall_score(y_test, pred_test_os)\n",
    "xgb_prec_base_train_os = precision_score(y_train_os, pred_train_os)\n",
    "xgb_prec_base_test_os = precision_score(y_test, pred_test_os)\n",
    "xgb_f1_base_train_os = f1_score(y_train_os, pred_train_os)\n",
    "xgb_f1_base_test_os = f1_score(y_test, pred_test_os)"
   ]
  },
  {
   "cell_type": "code",
   "execution_count": 54,
   "metadata": {},
   "outputs": [
    {
     "data": {
      "text/html": [
       "<div>\n",
       "<style scoped>\n",
       "    .dataframe tbody tr th:only-of-type {\n",
       "        vertical-align: middle;\n",
       "    }\n",
       "\n",
       "    .dataframe tbody tr th {\n",
       "        vertical-align: top;\n",
       "    }\n",
       "\n",
       "    .dataframe thead th {\n",
       "        text-align: right;\n",
       "    }\n",
       "</style>\n",
       "<table border=\"1\" class=\"dataframe\">\n",
       "  <thead>\n",
       "    <tr style=\"text-align: right;\">\n",
       "      <th></th>\n",
       "      <th>Pred 1</th>\n",
       "      <th>Pred 0</th>\n",
       "    </tr>\n",
       "  </thead>\n",
       "  <tbody>\n",
       "    <tr>\n",
       "      <th>Akt 1</th>\n",
       "      <td>8447</td>\n",
       "      <td>895</td>\n",
       "    </tr>\n",
       "    <tr>\n",
       "      <th>Akt 0</th>\n",
       "      <td>20669</td>\n",
       "      <td>46211</td>\n",
       "    </tr>\n",
       "  </tbody>\n",
       "</table>\n",
       "</div>"
      ],
      "text/plain": [
       "       Pred 1  Pred 0\n",
       "Akt 1    8447     895\n",
       "Akt 0   20669   46211"
      ]
     },
     "execution_count": 54,
     "metadata": {},
     "output_type": "execute_result"
    }
   ],
   "source": [
    "cm_xgb_base_os = confusion_matrix(y_test, pred_test_os, labels=[1, 0])\n",
    "cm_xgb_base_os = pd.DataFrame(data=cm_xgb_base_os, index=['Akt 1', 'Akt 0'], columns=['Pred 1', 'Pred 0'])\n",
    "cm_xgb_base_os"
   ]
  },
  {
   "cell_type": "code",
   "execution_count": 55,
   "metadata": {},
   "outputs": [
    {
     "name": "stdout",
     "output_type": "stream",
     "text": [
      "              precision    recall  f1-score   support\n",
      "\n",
      "           0       0.69      0.98      0.81     47106\n",
      "           1       0.90      0.29      0.44     29116\n",
      "\n",
      "    accuracy                           0.72     76222\n",
      "   macro avg       0.80      0.64      0.63     76222\n",
      "weighted avg       0.77      0.72      0.67     76222\n",
      "\n"
     ]
    }
   ],
   "source": [
    "print(classification_report(pred_test_os, y_test))"
   ]
  },
  {
   "cell_type": "code",
   "execution_count": 56,
   "metadata": {},
   "outputs": [],
   "source": [
    "tp_xgb_os = cm_xgb_base_os['Pred 1'][0]\n",
    "tn_xgb_os = cm_xgb_base_os['Pred 0'][1]\n",
    "fp_xgb_os = cm_xgb_base_os['Pred 1'][1]\n",
    "fn_xgb_os = cm_xgb_base_os['Pred 0'][0]"
   ]
  },
  {
   "cell_type": "markdown",
   "metadata": {},
   "source": [
    "### XGBoost Smote"
   ]
  },
  {
   "cell_type": "code",
   "execution_count": 57,
   "metadata": {},
   "outputs": [
    {
     "data": {
      "text/plain": [
       "XGBClassifier(base_score=0.5, booster='gbtree', colsample_bylevel=1,\n",
       "              colsample_bynode=1, colsample_bytree=1, gamma=0, gpu_id=-1,\n",
       "              importance_type='gain', interaction_constraints='',\n",
       "              learning_rate=0.300000012, max_delta_step=0, max_depth=6,\n",
       "              min_child_weight=1, missing=nan, monotone_constraints='()',\n",
       "              n_estimators=100, n_jobs=0, num_parallel_tree=1, random_state=0,\n",
       "              reg_alpha=0, reg_lambda=1, scale_pos_weight=1, subsample=1,\n",
       "              tree_method='exact', validate_parameters=1, verbosity=None)"
      ]
     },
     "execution_count": 57,
     "metadata": {},
     "output_type": "execute_result"
    }
   ],
   "source": [
    "xgb.fit(x_train_sm, y_train_sm)"
   ]
  },
  {
   "cell_type": "code",
   "execution_count": 58,
   "metadata": {},
   "outputs": [],
   "source": [
    "pred_train_sm = xgb.predict(x_train_sm)\n",
    "pred_test_sm = xgb.predict(x_test)"
   ]
  },
  {
   "cell_type": "code",
   "execution_count": 59,
   "metadata": {},
   "outputs": [],
   "source": [
    "xgb_acc_base_train_sm = accuracy_score(y_train_sm, pred_train_sm)\n",
    "xgb_acc_base_test_sm = accuracy_score(y_test, pred_test_sm)\n",
    "xgb_recall_base_train_sm = recall_score(y_train_sm, pred_train_sm)\n",
    "xgb_recall_base_test_sm = recall_score(y_test, pred_test_sm)\n",
    "xgb_prec_base_train_sm = precision_score(y_train_sm, pred_train_sm)\n",
    "xgb_prec_base_test_sm = precision_score(y_test, pred_test_sm)\n",
    "xgb_f1_base_train_sm = f1_score(y_train_sm, pred_train_sm)\n",
    "xgb_f1_base_test_sm = f1_score(y_test, pred_test_sm)"
   ]
  },
  {
   "cell_type": "code",
   "execution_count": 60,
   "metadata": {},
   "outputs": [
    {
     "data": {
      "text/html": [
       "<div>\n",
       "<style scoped>\n",
       "    .dataframe tbody tr th:only-of-type {\n",
       "        vertical-align: middle;\n",
       "    }\n",
       "\n",
       "    .dataframe tbody tr th {\n",
       "        vertical-align: top;\n",
       "    }\n",
       "\n",
       "    .dataframe thead th {\n",
       "        text-align: right;\n",
       "    }\n",
       "</style>\n",
       "<table border=\"1\" class=\"dataframe\">\n",
       "  <thead>\n",
       "    <tr style=\"text-align: right;\">\n",
       "      <th></th>\n",
       "      <th>Pred 1</th>\n",
       "      <th>Pred 0</th>\n",
       "    </tr>\n",
       "  </thead>\n",
       "  <tbody>\n",
       "    <tr>\n",
       "      <th>Akt 1</th>\n",
       "      <td>3622</td>\n",
       "      <td>5720</td>\n",
       "    </tr>\n",
       "    <tr>\n",
       "      <th>Akt 0</th>\n",
       "      <td>6791</td>\n",
       "      <td>60089</td>\n",
       "    </tr>\n",
       "  </tbody>\n",
       "</table>\n",
       "</div>"
      ],
      "text/plain": [
       "       Pred 1  Pred 0\n",
       "Akt 1    3622    5720\n",
       "Akt 0    6791   60089"
      ]
     },
     "execution_count": 60,
     "metadata": {},
     "output_type": "execute_result"
    }
   ],
   "source": [
    "cm_xgb_base_sm = confusion_matrix(y_test, pred_test_sm, labels=[1, 0])\n",
    "cm_xgb_base_sm = pd.DataFrame(data=cm_xgb_base_sm, index=['Akt 1', 'Akt 0'], columns=['Pred 1', 'Pred 0'])\n",
    "cm_xgb_base_sm"
   ]
  },
  {
   "cell_type": "code",
   "execution_count": 61,
   "metadata": {},
   "outputs": [
    {
     "name": "stdout",
     "output_type": "stream",
     "text": [
      "              precision    recall  f1-score   support\n",
      "\n",
      "           0       0.90      0.91      0.91     65809\n",
      "           1       0.39      0.35      0.37     10413\n",
      "\n",
      "    accuracy                           0.84     76222\n",
      "   macro avg       0.64      0.63      0.64     76222\n",
      "weighted avg       0.83      0.84      0.83     76222\n",
      "\n"
     ]
    }
   ],
   "source": [
    "print(classification_report(pred_test_sm, y_test))"
   ]
  },
  {
   "cell_type": "code",
   "execution_count": 62,
   "metadata": {},
   "outputs": [],
   "source": [
    "tp_xgb_sm = cm_xgb_base_sm['Pred 1'][0]\n",
    "tn_xgb_sm = cm_xgb_base_sm['Pred 0'][1]\n",
    "fp_xgb_sm = cm_xgb_base_sm['Pred 1'][1]\n",
    "fn_xgb_sm = cm_xgb_base_sm['Pred 0'][0]"
   ]
  },
  {
   "cell_type": "markdown",
   "metadata": {},
   "source": [
    "### Evaluation Matrix"
   ]
  },
  {
   "cell_type": "code",
   "execution_count": 63,
   "metadata": {},
   "outputs": [
    {
     "data": {
      "text/html": [
       "<div>\n",
       "<style scoped>\n",
       "    .dataframe tbody tr th:only-of-type {\n",
       "        vertical-align: middle;\n",
       "    }\n",
       "\n",
       "    .dataframe tbody tr th {\n",
       "        vertical-align: top;\n",
       "    }\n",
       "\n",
       "    .dataframe thead th {\n",
       "        text-align: right;\n",
       "    }\n",
       "</style>\n",
       "<table border=\"1\" class=\"dataframe\">\n",
       "  <thead>\n",
       "    <tr style=\"text-align: right;\">\n",
       "      <th></th>\n",
       "      <th>RF_OS_Train</th>\n",
       "      <th>RF_OS_Test</th>\n",
       "      <th>RF_SM_Train</th>\n",
       "      <th>RF_SM_Test</th>\n",
       "      <th>XGB_OS_Train</th>\n",
       "      <th>XGB_OS_Test</th>\n",
       "      <th>XGB_SM_Train</th>\n",
       "      <th>XGB_SM_Test</th>\n",
       "    </tr>\n",
       "  </thead>\n",
       "  <tbody>\n",
       "    <tr>\n",
       "      <th>Accuracy</th>\n",
       "      <td>0.999936</td>\n",
       "      <td>0.847498</td>\n",
       "      <td>0.999809</td>\n",
       "      <td>0.817704</td>\n",
       "      <td>0.819409</td>\n",
       "      <td>0.717090</td>\n",
       "      <td>0.896837</td>\n",
       "      <td>0.835861</td>\n",
       "    </tr>\n",
       "    <tr>\n",
       "      <th>Recall</th>\n",
       "      <td>1.000000</td>\n",
       "      <td>0.266752</td>\n",
       "      <td>0.999914</td>\n",
       "      <td>0.427103</td>\n",
       "      <td>0.944228</td>\n",
       "      <td>0.904196</td>\n",
       "      <td>0.893353</td>\n",
       "      <td>0.387711</td>\n",
       "    </tr>\n",
       "    <tr>\n",
       "      <th>Precision</th>\n",
       "      <td>0.999873</td>\n",
       "      <td>0.342967</td>\n",
       "      <td>0.999705</td>\n",
       "      <td>0.318360</td>\n",
       "      <td>0.755601</td>\n",
       "      <td>0.290115</td>\n",
       "      <td>0.899622</td>\n",
       "      <td>0.347834</td>\n",
       "    </tr>\n",
       "    <tr>\n",
       "      <th>F1 Score</th>\n",
       "      <td>0.999936</td>\n",
       "      <td>0.300096</td>\n",
       "      <td>0.999809</td>\n",
       "      <td>0.364800</td>\n",
       "      <td>0.839449</td>\n",
       "      <td>0.439284</td>\n",
       "      <td>0.896477</td>\n",
       "      <td>0.366692</td>\n",
       "    </tr>\n",
       "  </tbody>\n",
       "</table>\n",
       "</div>"
      ],
      "text/plain": [
       "           RF_OS_Train  RF_OS_Test  RF_SM_Train  RF_SM_Test  XGB_OS_Train  \\\n",
       "Accuracy      0.999936    0.847498     0.999809    0.817704      0.819409   \n",
       "Recall        1.000000    0.266752     0.999914    0.427103      0.944228   \n",
       "Precision     0.999873    0.342967     0.999705    0.318360      0.755601   \n",
       "F1 Score      0.999936    0.300096     0.999809    0.364800      0.839449   \n",
       "\n",
       "           XGB_OS_Test  XGB_SM_Train  XGB_SM_Test  \n",
       "Accuracy      0.717090      0.896837     0.835861  \n",
       "Recall        0.904196      0.893353     0.387711  \n",
       "Precision     0.290115      0.899622     0.347834  \n",
       "F1 Score      0.439284      0.896477     0.366692  "
      ]
     },
     "execution_count": 63,
     "metadata": {},
     "output_type": "execute_result"
    }
   ],
   "source": [
    "base = {\n",
    "    \"RF_OS_Train\": [rf_acc_base_train_os, rf_recall_base_train_os, rf_prec_base_train_os, rf_f1_base_train_os],\n",
    "    \"RF_OS_Test\" : [rf_acc_base_test_os, rf_recall_base_test_os, rf_prec_base_test_os, rf_f1_base_test_os],\n",
    "    \"RF_SM_Train\": [rf_acc_base_train_sm, rf_recall_base_train_sm, rf_prec_base_train_sm, rf_f1_base_train_sm],\n",
    "    \"RF_SM_Test\" : [rf_acc_base_test_sm, rf_recall_base_test_sm, rf_prec_base_test_sm, rf_f1_base_test_sm],\n",
    "    \"XGB_OS_Train\": [xgb_acc_base_train_os, xgb_recall_base_train_os, xgb_prec_base_train_os, xgb_f1_base_train_os],\n",
    "    \"XGB_OS_Test\" : [xgb_acc_base_test_os, xgb_recall_base_test_os, xgb_prec_base_test_os, xgb_f1_base_test_os],\n",
    "    \"XGB_SM_Train\": [xgb_acc_base_train_sm, xgb_recall_base_train_sm, xgb_prec_base_train_sm, xgb_f1_base_train_sm],\n",
    "    \"XGB_SM_Test\" : [xgb_acc_base_test_sm, xgb_recall_base_test_sm, xgb_prec_base_test_sm, xgb_f1_base_test_sm]\n",
    "    }\n",
    "base_matrix = pd.DataFrame(data = base, index = ['Accuracy', 'Recall', 'Precision', 'F1 Score'])\n",
    "base_matrix"
   ]
  },
  {
   "cell_type": "code",
   "execution_count": 64,
   "metadata": {},
   "outputs": [
    {
     "data": {
      "text/html": [
       "<div>\n",
       "<style scoped>\n",
       "    .dataframe tbody tr th:only-of-type {\n",
       "        vertical-align: middle;\n",
       "    }\n",
       "\n",
       "    .dataframe tbody tr th {\n",
       "        vertical-align: top;\n",
       "    }\n",
       "\n",
       "    .dataframe thead th {\n",
       "        text-align: right;\n",
       "    }\n",
       "</style>\n",
       "<table border=\"1\" class=\"dataframe\">\n",
       "  <thead>\n",
       "    <tr style=\"text-align: right;\">\n",
       "      <th></th>\n",
       "      <th>True Positive</th>\n",
       "      <th>True Negative</th>\n",
       "      <th>False Positive</th>\n",
       "      <th>False Negative</th>\n",
       "    </tr>\n",
       "  </thead>\n",
       "  <tbody>\n",
       "    <tr>\n",
       "      <th>XGBoost OS</th>\n",
       "      <td>8447</td>\n",
       "      <td>46211</td>\n",
       "      <td>20669</td>\n",
       "      <td>895</td>\n",
       "    </tr>\n",
       "    <tr>\n",
       "      <th>Random Forest SM</th>\n",
       "      <td>3990</td>\n",
       "      <td>58337</td>\n",
       "      <td>8543</td>\n",
       "      <td>5352</td>\n",
       "    </tr>\n",
       "    <tr>\n",
       "      <th>XGBoost SM</th>\n",
       "      <td>3622</td>\n",
       "      <td>60089</td>\n",
       "      <td>6791</td>\n",
       "      <td>5720</td>\n",
       "    </tr>\n",
       "    <tr>\n",
       "      <th>Random Forest OS</th>\n",
       "      <td>2492</td>\n",
       "      <td>62106</td>\n",
       "      <td>4774</td>\n",
       "      <td>6850</td>\n",
       "    </tr>\n",
       "  </tbody>\n",
       "</table>\n",
       "</div>"
      ],
      "text/plain": [
       "                  True Positive  True Negative  False Positive  False Negative\n",
       "XGBoost OS                 8447          46211           20669             895\n",
       "Random Forest SM           3990          58337            8543            5352\n",
       "XGBoost SM                 3622          60089            6791            5720\n",
       "Random Forest OS           2492          62106            4774            6850"
      ]
     },
     "execution_count": 64,
     "metadata": {},
     "output_type": "execute_result"
    }
   ],
   "source": [
    "cm = {\n",
    "    \"True Positive\" : [tp_rf_os, tp_rf_sm, tp_xgb_os, tp_xgb_sm],\n",
    "    \n",
    "    \"True Negative\" : [tn_rf_os, tn_rf_sm, tn_xgb_os, tn_xgb_sm],\n",
    "    \n",
    "    \"False Positive\": [fp_rf_os, fp_rf_sm, fp_xgb_os, fp_xgb_sm],\n",
    "    \n",
    "    \"False Negative\": [fn_rf_os, fn_rf_sm, fn_xgb_os, fn_xgb_sm]\n",
    "}\n",
    "    \n",
    "cm_matrix = pd.DataFrame(data = cm, index = ['Random Forest OS', 'Random Forest SM',\n",
    "                                             'XGBoost OS', 'XGBoost SM'])\n",
    "cm_matrix.sort_values('False Negative')"
   ]
  }
 ],
 "metadata": {
  "kernelspec": {
   "display_name": "Python 3",
   "language": "python",
   "name": "python3"
  },
  "language_info": {
   "codemirror_mode": {
    "name": "ipython",
    "version": 3
   },
   "file_extension": ".py",
   "mimetype": "text/x-python",
   "name": "python",
   "nbconvert_exporter": "python",
   "pygments_lexer": "ipython3",
   "version": "3.8.3"
  }
 },
 "nbformat": 4,
 "nbformat_minor": 4
}
